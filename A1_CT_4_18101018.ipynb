{
  "nbformat": 4,
  "nbformat_minor": 0,
  "metadata": {
    "colab": {
      "name": "A1_CT_4_18101018.ipynb",
      "provenance": [],
      "authorship_tag": "ABX9TyMd1WsxIYhneIKj5hdFSfm1",
      "include_colab_link": true
    },
    "kernelspec": {
      "name": "python3",
      "display_name": "Python 3"
    }
  },
  "cells": [
    {
      "cell_type": "markdown",
      "metadata": {
        "id": "view-in-github",
        "colab_type": "text"
      },
      "source": [
        "<a href=\"https://colab.research.google.com/github/rumman153/python/blob/master/A1_CT_4_18101018.ipynb\" target=\"_parent\"><img src=\"https://colab.research.google.com/assets/colab-badge.svg\" alt=\"Open In Colab\"/></a>"
      ]
    },
    {
      "cell_type": "markdown",
      "metadata": {
        "id": "SBtM1lAwtAFR",
        "colab_type": "text"
      },
      "source": [
        "1. Write a Credit Card class in python. A user can cash out (debit) money or pay shopping bills from his/her own card based on availability or limit. Initially,  a credit card holder gets 100000 taka limit. The user has to pay back to the credit card bank.\t\t[12]\n",
        "\n",
        "Moreover, the account stores the following information\t\t\t\t\t\t\n",
        "\tInstance variables: (information should be provided at the time of account creation)\n",
        "Name of the credit card holder\n",
        "Credit card number\n",
        "Current Balance\n",
        "Max limit\n",
        "\tMethods:\n",
        "Deposit \n",
        "Debit\n",
        "Show current balance\n",
        "Pay bill\n"
      ]
    },
    {
      "cell_type": "code",
      "metadata": {
        "id": "XdiC5LANtp23",
        "colab_type": "code",
        "colab": {}
      },
      "source": [
        "class credit_card:\n",
        "  name_of_holder= \"\"\n",
        "  card_number= 0\n",
        "  current_balance= 0\n",
        "  amount= 0\n",
        "\n",
        "\n",
        "  def deposit(self,name_of_holder,amount,card_number,current_balance,card_limit= 100000):\n",
        "    self.name_of_holder= name_of_holder\n",
        "    self.card_number= card_number\n",
        "    self.current_balance=current_balance+amount\n",
        "    self.card_limit=card_limit+amount\n",
        "  \n",
        "  def debit(self,name_of_holder,amount,card_number,current_balance,card_limit= 100000):\n",
        "    if (amount<card_limit):\n",
        "      self.name_of_holder= name_of_holder\n",
        "      self.card_number= card_number\n",
        "      self.current_balance=current_balance-amount\n",
        "      self.card_limit=card_limit-amount\n",
        "\n",
        "  def show_current_balance(self):\n",
        "    print(\"Name: \", self.name_of_holder)\n",
        "    print(\"Card Number: \", self.card_number)\n",
        "    print(\"Current Balance: \", self.current_balance,\"taka\")\n",
        "    print(\"Max Limit: \", self.card_limit,\"taka\")\n",
        "\n",
        "  def pay_bill(self,name_of_holder,amount,card_number,current_balance,card_limit= 100000):\n",
        "     if (amount<card_limit):\n",
        "      self.name_of_holder= name_of_holder\n",
        "      self.card_number= card_number\n",
        "      self.current_balance=current_balance-amount\n",
        "      self.card_limit=card_limit-amount\n",
        "    "
      ],
      "execution_count": null,
      "outputs": []
    },
    {
      "cell_type": "code",
      "metadata": {
        "id": "sEXLqDk7yJfy",
        "colab_type": "code",
        "colab": {}
      },
      "source": [
        "card=credit_card()"
      ],
      "execution_count": null,
      "outputs": []
    },
    {
      "cell_type": "code",
      "metadata": {
        "id": "4-h_zNUjyUS6",
        "colab_type": "code",
        "colab": {}
      },
      "source": [
        "card.deposit(\"Rumman\",1000,121,50000)"
      ],
      "execution_count": null,
      "outputs": []
    },
    {
      "cell_type": "code",
      "metadata": {
        "id": "AjzOKqBKyoNM",
        "colab_type": "code",
        "colab": {
          "base_uri": "https://localhost:8080/",
          "height": 85
        },
        "outputId": "113495a8-e0e7-4d36-aa04-32080ff97693"
      },
      "source": [
        "card.show_current_balance()"
      ],
      "execution_count": null,
      "outputs": [
        {
          "output_type": "stream",
          "text": [
            "Name:  Rumman\n",
            "Card Number:  121\n",
            "Current Balance:  51000 taka\n",
            "Max Limit:  101000 taka\n"
          ],
          "name": "stdout"
        }
      ]
    },
    {
      "cell_type": "code",
      "metadata": {
        "id": "CailbROw7_T1",
        "colab_type": "code",
        "colab": {}
      },
      "source": [
        "card.debit(\"Rumman\",1590,121,50000)"
      ],
      "execution_count": null,
      "outputs": []
    },
    {
      "cell_type": "code",
      "metadata": {
        "id": "0eoaTpkO95Zd",
        "colab_type": "code",
        "colab": {}
      },
      "source": [
        "card.show_current_balance()"
      ],
      "execution_count": null,
      "outputs": []
    },
    {
      "cell_type": "code",
      "metadata": {
        "id": "KC2g8WPv-IqJ",
        "colab_type": "code",
        "colab": {}
      },
      "source": [
        "card.pay_bill(\"Rumman\",20000,121,50000)"
      ],
      "execution_count": null,
      "outputs": []
    },
    {
      "cell_type": "code",
      "metadata": {
        "id": "OqT_efx7-ZCR",
        "colab_type": "code",
        "colab": {
          "base_uri": "https://localhost:8080/",
          "height": 85
        },
        "outputId": "d69518e3-b5a5-4eca-81d3-af5ee2980b2e"
      },
      "source": [
        "card.show_current_balance()"
      ],
      "execution_count": null,
      "outputs": [
        {
          "output_type": "stream",
          "text": [
            "Name:  Rumman\n",
            "Card Number:  121\n",
            "Current Balance:  30000\n",
            "Max Limit:  80000\n"
          ],
          "name": "stdout"
        }
      ]
    },
    {
      "cell_type": "markdown",
      "metadata": {
        "id": "YPESmjNA2SNq",
        "colab_type": "text"
      },
      "source": [
        "2. Write a python class for calculating the motion of a moving object by using the following equations\t"
      ]
    },
    {
      "cell_type": "code",
      "metadata": {
        "id": "D0uocWTU2Wgo",
        "colab_type": "code",
        "colab": {}
      },
      "source": [
        "class move_equation:\n",
        "  v=0.0\n",
        "  u=0.0\n",
        "  t=0.0\n",
        "  s=0.0\n",
        "\n",
        "  def formula1(self,u,t,a=9.80665):\n",
        "    print(\"v=\",u+(a*t))\n",
        "  \n",
        "  def formula2(self,u,t,a=9.80665):\n",
        "    print(\"s=\",u*t+0.5*a*t*t)\n",
        "\n",
        "  def formula3(self,v,u,t):\n",
        "    print(\"s=\",0.5*(u+v)*t)\n",
        "  \n",
        "  def formula4(self,s,u,a=9.80665):\n",
        "    print(\"v2=\",u*u+2*a*s)\n",
        "\n"
      ],
      "execution_count": null,
      "outputs": []
    },
    {
      "cell_type": "code",
      "metadata": {
        "id": "ko_AYKCu4uGH",
        "colab_type": "code",
        "colab": {}
      },
      "source": [
        "eq=move_equation()"
      ],
      "execution_count": null,
      "outputs": []
    },
    {
      "cell_type": "code",
      "metadata": {
        "id": "NJ5u3uGf40Gy",
        "colab_type": "code",
        "colab": {
          "base_uri": "https://localhost:8080/",
          "height": 34
        },
        "outputId": "8e3f6145-3369-4ea9-dbcc-72b6f827aef5"
      },
      "source": [
        "eq.formula1(10,10)"
      ],
      "execution_count": null,
      "outputs": [
        {
          "output_type": "stream",
          "text": [
            "v= 108.06649999999999\n"
          ],
          "name": "stdout"
        }
      ]
    },
    {
      "cell_type": "code",
      "metadata": {
        "id": "zSPxW4cp6WdI",
        "colab_type": "code",
        "colab": {
          "base_uri": "https://localhost:8080/",
          "height": 34
        },
        "outputId": "a8c74841-e004-4d59-9bb0-0a7ec2bd35d5"
      },
      "source": [
        "eq.formula2(10,10)"
      ],
      "execution_count": null,
      "outputs": [
        {
          "output_type": "stream",
          "text": [
            "s= 590.3325\n"
          ],
          "name": "stdout"
        }
      ]
    },
    {
      "cell_type": "code",
      "metadata": {
        "id": "S6BRO6MQ7CHE",
        "colab_type": "code",
        "colab": {
          "base_uri": "https://localhost:8080/",
          "height": 34
        },
        "outputId": "cbe51303-d19e-4d54-ab34-596288790eb0"
      },
      "source": [
        "eq.formula3(10,10,10)"
      ],
      "execution_count": null,
      "outputs": [
        {
          "output_type": "stream",
          "text": [
            "s= 100.0\n"
          ],
          "name": "stdout"
        }
      ]
    },
    {
      "cell_type": "code",
      "metadata": {
        "id": "ejqObPbp7JYb",
        "colab_type": "code",
        "colab": {
          "base_uri": "https://localhost:8080/",
          "height": 34
        },
        "outputId": "d9eccafa-c560-496a-eafa-b1deaf68a02f"
      },
      "source": [
        "eq.formula4(10,10)"
      ],
      "execution_count": null,
      "outputs": [
        {
          "output_type": "stream",
          "text": [
            "v2= 296.133\n"
          ],
          "name": "stdout"
        }
      ]
    }
  ]
}