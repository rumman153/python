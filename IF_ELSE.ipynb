{
  "nbformat": 4,
  "nbformat_minor": 0,
  "metadata": {
    "colab": {
      "name": "IF/ELSE.ipynb",
      "provenance": [],
      "authorship_tag": "ABX9TyMIL8PItSA/VkGKRxyauROz",
      "include_colab_link": true
    },
    "kernelspec": {
      "name": "python3",
      "display_name": "Python 3"
    }
  },
  "cells": [
    {
      "cell_type": "markdown",
      "metadata": {
        "id": "view-in-github",
        "colab_type": "text"
      },
      "source": [
        "<a href=\"https://colab.research.google.com/github/rumman153/python/blob/master/IF_ELSE.ipynb\" target=\"_parent\"><img src=\"https://colab.research.google.com/assets/colab-badge.svg\" alt=\"Open In Colab\"/></a>"
      ]
    },
    {
      "cell_type": "code",
      "metadata": {
        "id": "OY4azFwnqT3z",
        "colab_type": "code",
        "colab": {}
      },
      "source": [
        ""
      ],
      "execution_count": null,
      "outputs": []
    },
    {
      "cell_type": "markdown",
      "metadata": {
        "id": "a7Y1qggOqbbZ",
        "colab_type": "text"
      },
      "source": [
        "IF Else"
      ]
    },
    {
      "cell_type": "code",
      "metadata": {
        "id": "7JZ48Km2qczm",
        "colab_type": "code",
        "colab": {
          "base_uri": "https://localhost:8080/",
          "height": 51
        },
        "outputId": "503c938a-99ff-4235-c26c-275ca8397f01"
      },
      "source": [
        "x = int(input())\n",
        "if x>0:\n",
        "  print (\"positive\")\n",
        "else: \n",
        "  print (\"negative\")"
      ],
      "execution_count": null,
      "outputs": [
        {
          "output_type": "stream",
          "text": [
            "10\n",
            "positive\n"
          ],
          "name": "stdout"
        }
      ]
    },
    {
      "cell_type": "code",
      "metadata": {
        "id": "gOLX4R3AsVIc",
        "colab_type": "code",
        "colab": {
          "base_uri": "https://localhost:8080/",
          "height": 130
        },
        "outputId": "55521a87-54fd-4f7a-f541-be36a2ad219c"
      },
      "source": [
        "if x>0:\n",
        "  (print (\"ok\") \n",
        "  print (\"ok\"))"
      ],
      "execution_count": null,
      "outputs": [
        {
          "output_type": "error",
          "ename": "SyntaxError",
          "evalue": "ignored",
          "traceback": [
            "\u001b[0;36m  File \u001b[0;32m\"<ipython-input-9-49202cf06957>\"\u001b[0;36m, line \u001b[0;32m3\u001b[0m\n\u001b[0;31m    print (\"ok\"))\u001b[0m\n\u001b[0m        ^\u001b[0m\n\u001b[0;31mSyntaxError\u001b[0m\u001b[0;31m:\u001b[0m invalid syntax\n"
          ]
        }
      ]
    },
    {
      "cell_type": "code",
      "metadata": {
        "id": "XK5iVQ-ptoNO",
        "colab_type": "code",
        "colab": {
          "base_uri": "https://localhost:8080/",
          "height": 51
        },
        "outputId": "e232a736-9ae8-4cc1-e44a-0c41ef54487b"
      },
      "source": [
        "x = int(input())\n",
        "if (x==10):\n",
        "  print(\"=\")\n",
        "elif (x<10):\n",
        "  print(\"<\")\n",
        "elif (x<=10):\n",
        "  print(\"<=\")"
      ],
      "execution_count": null,
      "outputs": [
        {
          "output_type": "stream",
          "text": [
            "5\n",
            "<\n"
          ],
          "name": "stdout"
        }
      ]
    }
  ]
}