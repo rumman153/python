{
  "nbformat": 4,
  "nbformat_minor": 0,
  "metadata": {
    "colab": {
      "name": "A1_CT_2_18101018.ipynb",
      "provenance": [],
      "include_colab_link": true
    },
    "kernelspec": {
      "name": "python3",
      "display_name": "Python 3"
    }
  },
  "cells": [
    {
      "cell_type": "markdown",
      "metadata": {
        "id": "view-in-github",
        "colab_type": "text"
      },
      "source": [
        "<a href=\"https://colab.research.google.com/github/rumman153/python/blob/master/A1_CT_2_18101018.ipynb\" target=\"_parent\"><img src=\"https://colab.research.google.com/assets/colab-badge.svg\" alt=\"Open In Colab\"/></a>"
      ]
    },
    {
      "cell_type": "code",
      "metadata": {
        "id": "7VoglgzNh6aN",
        "colab_type": "code",
        "colab": {}
      },
      "source": [
        ""
      ],
      "execution_count": null,
      "outputs": []
    },
    {
      "cell_type": "markdown",
      "metadata": {
        "id": "hOXY34LRjjlZ",
        "colab_type": "text"
      },
      "source": [
        "1. Write a program to check Leap year.\t\t\t\t\t\t\n",
        "\n",
        "Following is pseudo code:\n",
        "if year is divisible by 400 then is_leap_year\n",
        "else if year is divisible by 100 then not_leap_year\n",
        "else if year is divisible by 4 then is_leap_year\n",
        "else not_leap_year\n"
      ]
    },
    {
      "cell_type": "code",
      "metadata": {
        "id": "qpRlboatjoIQ",
        "colab_type": "code",
        "colab": {
          "base_uri": "https://localhost:8080/",
          "height": 51
        },
        "outputId": "393c02b6-70a6-443a-da65-38753de68dd3"
      },
      "source": [
        "x = int(input())\n",
        "\n",
        "if (x%400)==0:\n",
        "  print(x,\"is a leap year\")\n",
        "elif (x%100)==0:\n",
        "  print(x,\"is not leap year\")\n",
        "elif (x%4)==0:\n",
        "  print(x,\"is a leap year\")\n",
        "else:\n",
        "  print(x,\"is not leap year\")"
      ],
      "execution_count": null,
      "outputs": [
        {
          "output_type": "stream",
          "text": [
            "2019\n",
            "2019 is not leap year\n"
          ],
          "name": "stdout"
        }
      ]
    },
    {
      "cell_type": "markdown",
      "metadata": {
        "id": "9BOy1hLGk0xY",
        "colab_type": "text"
      },
      "source": [
        "2. Given a string of length 12, divide the string into 4 parts of length 3. Then swap the first part with the last part. Output the final string."
      ]
    },
    {
      "cell_type": "code",
      "metadata": {
        "id": "RpaovMEFk4lK",
        "colab_type": "code",
        "colab": {
          "base_uri": "https://localhost:8080/",
          "height": 35
        },
        "outputId": "bcab97fd-6201-482d-87be-7fb656bcb634"
      },
      "source": [
        "s = \"ABCDEFGHIJKL\"\n",
        "\n",
        "s1=s[0:3]\n",
        "s2=s[3:6]\n",
        "s3=s[6:9]\n",
        "s4=s[9:12]\n",
        "\n",
        "s = s4+s2+s3+s1\n"
      ],
      "execution_count": null,
      "outputs": [
        {
          "output_type": "execute_result",
          "data": {
            "application/vnd.google.colaboratory.intrinsic": {
              "type": "string"
            },
            "text/plain": [
              "'JKLDEFGHIABC'"
            ]
          },
          "metadata": {
            "tags": []
          },
          "execution_count": 7
        }
      ]
    },
    {
      "cell_type": "markdown",
      "metadata": {
        "id": "X3BX1KE2lkdH",
        "colab_type": "text"
      },
      "source": [
        "3.Suppose you are going to start a Django Project with a group of 5 members. Now, you need to store the information (Name, ID, CGPA, Email_Address, and Contact_no) about the group members in some variables. Choose the appropriate data type where one can search a member effectively.\t"
      ]
    },
    {
      "cell_type": "code",
      "metadata": {
        "id": "26-WPl9Klovr",
        "colab_type": "code",
        "colab": {
          "base_uri": "https://localhost:8080/",
          "height": 102
        },
        "outputId": "c82d6a76-bb70-4209-9ec5-1bb94a735e45"
      },
      "source": [
        "group = {\n",
        "    18101018 : {\n",
        "        \"Name\" : \"Rumman\",\n",
        "        \"ID\" : 18101018,\n",
        "        \"CGPA\" : 3.88,\n",
        "        \"Email_Adress\" : \"rumman153@gmail.com\",\n",
        "        \"Contact_no\" : \"01521429847\"\n",
        "    },\n",
        "\n",
        "   18101017 : {\n",
        "        \"Name\" : \"Adnan\",\n",
        "        \"ID\" : 18101017,\n",
        "        \"CGPA\" : 3.81,\n",
        "        \"Email_Adress\" : \"adnan@gmail.com\",\n",
        "        \"Contact_no\" : \"01821429857\"\n",
        "    },\n",
        "\n",
        "    18101025 : {\n",
        "        \"Name\" : \"Tanvir\",\n",
        "        \"ID\" : 18101025,\n",
        "        \"CGPA\" : 3.89,\n",
        "        \"Email_Adress\" : \"tanvir@gmail.com\",\n",
        "        \"Contact_no\" : \"01721429868\"\n",
        "    },\n",
        "\n",
        "   18101014 : {\n",
        "        \"Name\" : \"Ifty\",\n",
        "        \"ID\" : 18101014,\n",
        "        \"CGPA\" : 3.85,\n",
        "        \"Email_Adress\" : \"Ifty@gmail.com\",\n",
        "        \"Contact_no\" : \"01921429857\"\n",
        "    },\n",
        "\n",
        "    18101012 : {\n",
        "        \"Name\" : \"Modak\",\n",
        "        \"ID\" : 18101012,\n",
        "        \"CGPA\" : 3.80,\n",
        "        \"Email_Adress\" : \"modak@gmail.com\",\n",
        "        \"Contact_no\" : \"01621429857\",\n",
        "    }\n",
        "}\n",
        "\n",
        "group[18101018]"
      ],
      "execution_count": null,
      "outputs": [
        {
          "output_type": "execute_result",
          "data": {
            "text/plain": [
              "{'CGPA': 3.88,\n",
              " 'Contact_no': '01521429847',\n",
              " 'Email_Adress': 'rumman153@gmail.com',\n",
              " 'ID': 18101018,\n",
              " 'Name': 'Rumman'}"
            ]
          },
          "metadata": {
            "tags": []
          },
          "execution_count": 19
        }
      ]
    },
    {
      "cell_type": "markdown",
      "metadata": {
        "id": "WJDZpkGNouCM",
        "colab_type": "text"
      },
      "source": [
        "4.Choose variables of appropriate data type to store the information of the following table in a way that if someone inputs the EmployeeID, it will show all the information of that Employee.\t"
      ]
    },
    {
      "cell_type": "code",
      "metadata": {
        "id": "GyAEYNbloyN7",
        "colab_type": "code",
        "colab": {
          "base_uri": "https://localhost:8080/",
          "height": 102
        },
        "outputId": "c940a184-da32-4571-9e3d-aaf74e7683bb"
      },
      "source": [
        "Employee = {\n",
        "    1001 : {\n",
        "        \"Ename\" : \"John\",\n",
        "        \"DeptID\" : 2,\n",
        "        \"Salary\" : 4000,\n",
        "        \"Dname\" : \"IT\",\n",
        "        \"Dlocation\" : \"New Delhi\"\n",
        "    },\n",
        "\n",
        "    1002 : {\n",
        "        \"Ename\" : \"Anna\",\n",
        "        \"DeptID\" : 1,\n",
        "        \"Salary\" : 3500,\n",
        "        \"Dname\" : \"HR\",\n",
        "        \"Dlocation\" : \"Mumbai\"\n",
        "    },\n",
        "\n",
        "    1003 : {\n",
        "        \"Ename\" : \"James\",\n",
        "        \"DeptID\" : 1,\n",
        "        \"Salary\" : 2500,\n",
        "        \"Dname\" : \"HR\",\n",
        "        \"Dlocation\" : \"Mumbai\"\n",
        "    },\n",
        "\n",
        "    1004 : {\n",
        "        \"Ename\" : \"David\",\n",
        "        \"DeptID\" : 2,\n",
        "        \"Salary\" : 5000,\n",
        "        \"Dname\" : \"IT\",\n",
        "        \"Dlocation\" : \"New Delhi\"\n",
        "    }\n",
        "}\n",
        "\n",
        "Employee[1002]\n",
        "\n"
      ],
      "execution_count": null,
      "outputs": [
        {
          "output_type": "execute_result",
          "data": {
            "text/plain": [
              "{'DeptID': 1,\n",
              " 'Dlocation': 'Mumbai',\n",
              " 'Dname': 'HR',\n",
              " 'Ename': 'Anna',\n",
              " 'Salary': 3500}"
            ]
          },
          "metadata": {
            "tags": []
          },
          "execution_count": 3
        }
      ]
    },
    {
      "cell_type": "code",
      "metadata": {
        "id": "BXwKkP6w1GdT",
        "colab_type": "code",
        "colab": {
          "base_uri": "https://localhost:8080/",
          "height": 34
        },
        "outputId": "4f7fbb10-24e2-433f-e098-722f4ce0225d"
      },
      "source": [
        "print(\"Ename:\", Employee[1002][\"Ename\"], end=\", \")\n",
        "print(\"DeptID:\", Employee[1002][\"DeptID\"], end=\", \")\n",
        "print(\"Dlocation:\", Employee[1002][\"Dlocation\"], end=\"\")"
      ],
      "execution_count": null,
      "outputs": [
        {
          "output_type": "stream",
          "text": [
            "Ename: Anna, DeptID: 1, Dlocation: Mumbai"
          ],
          "name": "stdout"
        }
      ]
    }
  ]
}