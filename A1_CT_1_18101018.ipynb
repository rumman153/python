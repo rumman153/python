{
  "nbformat": 4,
  "nbformat_minor": 0,
  "metadata": {
    "colab": {
      "name": "A1_CT_1_18101018.ipynb",
      "provenance": [],
      "authorship_tag": "ABX9TyN+YQA4VTWzmC29H7zfsTyp",
      "include_colab_link": true
    },
    "kernelspec": {
      "name": "python3",
      "display_name": "Python 3"
    }
  },
  "cells": [
    {
      "cell_type": "markdown",
      "metadata": {
        "id": "view-in-github",
        "colab_type": "text"
      },
      "source": [
        "<a href=\"https://colab.research.google.com/github/rumman153/python/blob/master/A1_CT_1_18101018.ipynb\" target=\"_parent\"><img src=\"https://colab.research.google.com/assets/colab-badge.svg\" alt=\"Open In Colab\"/></a>"
      ]
    },
    {
      "cell_type": "markdown",
      "metadata": {
        "id": "0o2b_hdKmzod",
        "colab_type": "text"
      },
      "source": [
        "1. Write a python program to calculate compound interest.\t\n",
        "\n",
        "Formula to calculate compound interest annually is given by:\n",
        "\n",
        "Compound Interest = P(1 + R/100)T \n",
        "Where,\n",
        "P is principal amount\n",
        "R is the rate and\n",
        "T is the time span\n",
        "\n",
        "Example:\n",
        "Input : \n",
        "        Principle (amount): 1200\n",
        "        Time: 2\n",
        "        Rate: 5.4\n",
        "Output : \n",
        "         Compound Interest = 1333.099243\n"
      ]
    },
    {
      "cell_type": "code",
      "metadata": {
        "id": "u3SjMNyFm-H5",
        "colab_type": "code",
        "colab": {
          "base_uri": "https://localhost:8080/",
          "height": 119
        },
        "outputId": "690df739-acf4-47df-9b4d-e41b529657ae"
      },
      "source": [
        "print(\"Input :\")\n",
        "P=float(input(\"Principle (amount): \"))\n",
        "T=float(input(\"Time: \"))\n",
        "R=float(input(\"Rate: \"))\n",
        "CompoundInterest = P*((1+(R/100))**T)\n",
        "print(\"Output :\\n Compound Interest =\",round(CompoundInterest,6))"
      ],
      "execution_count": null,
      "outputs": [
        {
          "output_type": "stream",
          "text": [
            "Input :\n",
            "Principle (amount): 1200\n",
            "Time: 2\n",
            "Rate: 5.4\n",
            "Output :\n",
            " Compound Interest = 1333.0992\n"
          ],
          "name": "stdout"
        }
      ]
    },
    {
      "cell_type": "markdown",
      "metadata": {
        "id": "hP-iKRhIpsRy",
        "colab_type": "text"
      },
      "source": [
        "2. Write a python program to calculate the surface area and volume of a cylinder. "
      ]
    },
    {
      "cell_type": "code",
      "metadata": {
        "id": "KwavlTfFpzSM",
        "colab_type": "code",
        "colab": {
          "base_uri": "https://localhost:8080/",
          "height": 119
        },
        "outputId": "9f8f32e5-acae-4db0-e674-ea734958e619"
      },
      "source": [
        "print(\"Input :\")\n",
        "r=float(input(\"r = \"))\n",
        "h=float(input(\"h = \"))\n",
        "SurfaceArea= (2*3.1416*r*r)+(2*3.1416*r*h)\n",
        "Volume= 3.1416*r*r*h\n",
        "print(\"output:\\n\",\"Surface area:\",round(SurfaceArea,2),\"square units\\n\"\"Volume:\",round(Volume,2),\"cube units\")"
      ],
      "execution_count": null,
      "outputs": [
        {
          "output_type": "stream",
          "text": [
            "Input :\n",
            "r = 10\n",
            "h = 5\n",
            "output:\n",
            " Surface area: 942.48 square units\n",
            "Volume: 1570.8 cube units\n"
          ],
          "name": "stdout"
        }
      ]
    },
    {
      "cell_type": "markdown",
      "metadata": {
        "id": "tayjbe-DstyE",
        "colab_type": "text"
      },
      "source": [
        "3.Write a python program to calculate the volume and surface area of Cone."
      ]
    },
    {
      "cell_type": "code",
      "metadata": {
        "id": "lg_GQ9r3s0Mh",
        "colab_type": "code",
        "colab": {
          "base_uri": "https://localhost:8080/",
          "height": 119
        },
        "outputId": "22856ef2-9c29-4a87-e2ae-7b26886e62c8"
      },
      "source": [
        "print(\"Input :\")\n",
        "r=float(input(\"r = \"))\n",
        "h=float(input(\"h = \"))\n",
        "Volume= 1/3*3.1416*r*r*h\n",
        "SurfaceArea= (3.1416*r*h)+(3.1416*r*r)\n",
        "print(\"output:\\n\",\"Surface area:\",round(SurfaceArea,2),\"square units\\n\"\"Volume:\",round(Volume,2),\"cube units\")\n",
        "\n"
      ],
      "execution_count": null,
      "outputs": [
        {
          "output_type": "stream",
          "text": [
            "Input :\n",
            "r = 10\n",
            "h = 5\n",
            "output:\n",
            " Surface area: 1884.9600000000003 square units\n",
            "Volume: 523.6 cube units\n"
          ],
          "name": "stdout"
        }
      ]
    },
    {
      "cell_type": "markdown",
      "metadata": {
        "id": "ldKfykIjtnTZ",
        "colab_type": "text"
      },
      "source": [
        "4. Write a python program to calculate the volume and surface area of Sphere.\n"
      ]
    },
    {
      "cell_type": "code",
      "metadata": {
        "id": "VVx4eiLQtxZW",
        "colab_type": "code",
        "colab": {
          "base_uri": "https://localhost:8080/",
          "height": 102
        },
        "outputId": "dba06e06-f48d-416b-8ae0-88a7c3b4268b"
      },
      "source": [
        "print(\"Input :\")\n",
        "r=float(input(\"r = \"))\n",
        "Volume= 4/3*3.1416*r*r*r\n",
        "SurfaceArea= 4*3.1416*r*r\n",
        "print(\"output:\\n\",\"Surface area:\",round(SurfaceArea,2),\"square units\\n\"\"Volume:\",round(Volume,2),\"cube units\")\n",
        "\n"
      ],
      "execution_count": 1,
      "outputs": [
        {
          "output_type": "stream",
          "text": [
            "Input :\n",
            "r = 10\n",
            "output:\n",
            " Surface area: 1256.64 square units\n",
            "Volume: 4188.8 cube units\n"
          ],
          "name": "stdout"
        }
      ]
    }
  ]
}