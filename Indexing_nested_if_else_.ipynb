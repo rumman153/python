{
  "nbformat": 4,
  "nbformat_minor": 0,
  "metadata": {
    "colab": {
      "name": "Indexing-nested if/else-.ipynb",
      "provenance": [],
      "authorship_tag": "ABX9TyMuW0CvNLa+S+r+3KIB0LNZ",
      "include_colab_link": true
    },
    "kernelspec": {
      "name": "python3",
      "display_name": "Python 3"
    }
  },
  "cells": [
    {
      "cell_type": "markdown",
      "metadata": {
        "id": "view-in-github",
        "colab_type": "text"
      },
      "source": [
        "<a href=\"https://colab.research.google.com/github/rumman153/python/blob/master/Indexing_nested_if_else_.ipynb\" target=\"_parent\"><img src=\"https://colab.research.google.com/assets/colab-badge.svg\" alt=\"Open In Colab\"/></a>"
      ]
    },
    {
      "cell_type": "markdown",
      "metadata": {
        "id": "s7wXPeMJQR7A",
        "colab_type": "text"
      },
      "source": [
        "Indexing and Slicing"
      ]
    },
    {
      "cell_type": "code",
      "metadata": {
        "id": "Ok0btgT_QT98",
        "colab_type": "code",
        "colab": {}
      },
      "source": [
        "L = [10,20,30,40,-50]"
      ],
      "execution_count": null,
      "outputs": []
    },
    {
      "cell_type": "code",
      "metadata": {
        "id": "gilZZ2fIQ08l",
        "colab_type": "code",
        "colab": {
          "base_uri": "https://localhost:8080/",
          "height": 34
        },
        "outputId": "e7017f08-ee29-4cc3-9c49-3dd433f5962e"
      },
      "source": [
        "L"
      ],
      "execution_count": null,
      "outputs": [
        {
          "output_type": "execute_result",
          "data": {
            "text/plain": [
              "[10, 20, 30, 40, -50]"
            ]
          },
          "metadata": {
            "tags": []
          },
          "execution_count": 5
        }
      ]
    },
    {
      "cell_type": "code",
      "metadata": {
        "id": "37eQvV75VhWz",
        "colab_type": "code",
        "colab": {}
      },
      "source": [
        ""
      ],
      "execution_count": null,
      "outputs": []
    },
    {
      "cell_type": "code",
      "metadata": {
        "id": "ONHl3J91Q24t",
        "colab_type": "code",
        "colab": {
          "base_uri": "https://localhost:8080/",
          "height": 34
        },
        "outputId": "b4b9f23a-5c55-4267-8668-79211d6e551c"
      },
      "source": [
        "L[2:4:2]"
      ],
      "execution_count": null,
      "outputs": [
        {
          "output_type": "execute_result",
          "data": {
            "text/plain": [
              "[30]"
            ]
          },
          "metadata": {
            "tags": []
          },
          "execution_count": 6
        }
      ]
    },
    {
      "cell_type": "code",
      "metadata": {
        "id": "u4El0ZxNRMhn",
        "colab_type": "code",
        "colab": {
          "base_uri": "https://localhost:8080/",
          "height": 34
        },
        "outputId": "8e6c872d-7437-4e54-eb3d-6e5172ac24ae"
      },
      "source": [
        "L[2:3:-1]"
      ],
      "execution_count": null,
      "outputs": [
        {
          "output_type": "execute_result",
          "data": {
            "text/plain": [
              "[]"
            ]
          },
          "metadata": {
            "tags": []
          },
          "execution_count": 9
        }
      ]
    },
    {
      "cell_type": "code",
      "metadata": {
        "id": "ygr3V71WTeIj",
        "colab_type": "code",
        "colab": {
          "base_uri": "https://localhost:8080/",
          "height": 34
        },
        "outputId": "fd463cea-521a-4d7d-d3e2-9d866bc0d896"
      },
      "source": [
        "L[10:2:-2]"
      ],
      "execution_count": null,
      "outputs": [
        {
          "output_type": "execute_result",
          "data": {
            "text/plain": [
              "[-50]"
            ]
          },
          "metadata": {
            "tags": []
          },
          "execution_count": 14
        }
      ]
    },
    {
      "cell_type": "code",
      "metadata": {
        "id": "bbOLjmlxTrup",
        "colab_type": "code",
        "colab": {
          "base_uri": "https://localhost:8080/",
          "height": 34
        },
        "outputId": "6e25244f-3a07-4791-cb43-97e172dc037c"
      },
      "source": [
        "L[len(L)::-1]"
      ],
      "execution_count": null,
      "outputs": [
        {
          "output_type": "execute_result",
          "data": {
            "text/plain": [
              "[-50, 40, 30, 20, 10]"
            ]
          },
          "metadata": {
            "tags": []
          },
          "execution_count": 12
        }
      ]
    },
    {
      "cell_type": "code",
      "metadata": {
        "id": "mrIGO4NcUImF",
        "colab_type": "code",
        "colab": {
          "base_uri": "https://localhost:8080/",
          "height": 34
        },
        "outputId": "c77175ea-c177-452b-b6e4-9f714e208e0b"
      },
      "source": [
        "L[1:100:1]"
      ],
      "execution_count": null,
      "outputs": [
        {
          "output_type": "execute_result",
          "data": {
            "text/plain": [
              "[20, 30, 40, -50]"
            ]
          },
          "metadata": {
            "tags": []
          },
          "execution_count": 13
        }
      ]
    },
    {
      "cell_type": "code",
      "metadata": {
        "id": "-RD-M8qDVjVI",
        "colab_type": "code",
        "colab": {
          "base_uri": "https://localhost:8080/",
          "height": 34
        },
        "outputId": "48e56c27-b35e-424c-adab-9e75f2724871"
      },
      "source": [
        "L[len(L):len(L):-1]"
      ],
      "execution_count": null,
      "outputs": [
        {
          "output_type": "execute_result",
          "data": {
            "text/plain": [
              "[]"
            ]
          },
          "metadata": {
            "tags": []
          },
          "execution_count": 16
        }
      ]
    },
    {
      "cell_type": "code",
      "metadata": {
        "id": "uBoirt4WVrTS",
        "colab_type": "code",
        "colab": {}
      },
      "source": [
        ""
      ],
      "execution_count": null,
      "outputs": []
    },
    {
      "cell_type": "markdown",
      "metadata": {
        "id": "pcqpwnb4WMvw",
        "colab_type": "text"
      },
      "source": [
        "**Conditional (if-else)**\n",
        "\n",
        "\n"
      ]
    },
    {
      "cell_type": "code",
      "metadata": {
        "id": "xle86cGCWSvc",
        "colab_type": "code",
        "colab": {
          "base_uri": "https://localhost:8080/",
          "height": 51
        },
        "outputId": "94970e93-cdb9-43d4-d764-b683853172d8"
      },
      "source": [
        "x = int(input())\n",
        "\n",
        "if (x>0):\n",
        "  print(\"Good\")\n",
        "else: \n",
        "  print(\"Bad\")"
      ],
      "execution_count": null,
      "outputs": [
        {
          "output_type": "stream",
          "text": [
            "5\n",
            "Good\n"
          ],
          "name": "stdout"
        }
      ]
    },
    {
      "cell_type": "code",
      "metadata": {
        "id": "PTgOm6dMXcqE",
        "colab_type": "code",
        "colab": {}
      },
      "source": [
        ""
      ],
      "execution_count": null,
      "outputs": []
    },
    {
      "cell_type": "code",
      "metadata": {
        "id": "0NCHJFhhZf4z",
        "colab_type": "code",
        "colab": {
          "base_uri": "https://localhost:8080/",
          "height": 102
        },
        "outputId": "f5eeafc1-1f67-4fff-a3b4-ad59a375178b"
      },
      "source": [
        "x = int(input())\n",
        "\n",
        "if(x>0):\n",
        "    print(\"positive\")\n",
        "    print(\"greater than 0\")\n",
        "    print(\"shunno theke boro\")\n",
        "else :\n",
        "    print(\"negative\")\n",
        "print(\"very good\")"
      ],
      "execution_count": null,
      "outputs": [
        {
          "output_type": "stream",
          "text": [
            "10\n",
            "positive\n",
            "greater than 0\n",
            "shunno theke boro\n",
            "very good\n"
          ],
          "name": "stdout"
        }
      ]
    },
    {
      "cell_type": "code",
      "metadata": {
        "id": "p8A3XM0ke1h8",
        "colab_type": "code",
        "colab": {
          "base_uri": "https://localhost:8080/",
          "height": 34
        },
        "outputId": "f35beff8-747e-4ddd-cd25-0ecc51403b01"
      },
      "source": [
        "type(1000>0)"
      ],
      "execution_count": null,
      "outputs": [
        {
          "output_type": "execute_result",
          "data": {
            "text/plain": [
              "bool"
            ]
          },
          "metadata": {
            "tags": []
          },
          "execution_count": 35
        }
      ]
    },
    {
      "cell_type": "code",
      "metadata": {
        "id": "mfIYnaQffMI8",
        "colab_type": "code",
        "colab": {
          "base_uri": "https://localhost:8080/",
          "height": 34
        },
        "outputId": "9f153daa-2c99-440a-9e5e-9a123367c92e"
      },
      "source": [
        "10>0"
      ],
      "execution_count": null,
      "outputs": [
        {
          "output_type": "execute_result",
          "data": {
            "text/plain": [
              "True"
            ]
          },
          "metadata": {
            "tags": []
          },
          "execution_count": 36
        }
      ]
    },
    {
      "cell_type": "code",
      "metadata": {
        "id": "_uNldUZkbyFN",
        "colab_type": "code",
        "colab": {
          "base_uri": "https://localhost:8080/",
          "height": 102
        },
        "outputId": "6eaf94e6-0dc7-4eb9-b594-96a883797003"
      },
      "source": [
        "x = int(input())\n",
        "\n",
        "if(x == 10):\n",
        "  print(\"==\")\n",
        "if(x > 10):\n",
        "  print(\">\")\n",
        "if(x < 10):\n",
        "  print(\"<\")\n",
        "if(x >= 10):\n",
        "  print(\">=\")\n",
        "if(x <= 10):\n",
        "  print(\"<=\")\n",
        "if(x != 10):\n",
        "  print(\" != \")\n",
        "else:\n",
        "  print(\"What??\")"
      ],
      "execution_count": null,
      "outputs": [
        {
          "output_type": "stream",
          "text": [
            "10\n",
            "==\n",
            ">=\n",
            "<=\n",
            "What??\n"
          ],
          "name": "stdout"
        }
      ]
    },
    {
      "cell_type": "code",
      "metadata": {
        "id": "n9-H6rhmZvir",
        "colab_type": "code",
        "colab": {
          "base_uri": "https://localhost:8080/",
          "height": 85
        },
        "outputId": "80bca9ee-d22c-47d2-8a8c-829ac2b24771"
      },
      "source": [
        "a = int(input())\n",
        "b = int(input())\n",
        "c = int(input())\n",
        "\n",
        "if a>b :\n",
        "  if a>c :\n",
        "    print(a)\n",
        "elif b>a :\n",
        "  if b>c :\n",
        "    print(b)\n",
        "  else:\n",
        "    print(c)\n",
        "else:\n",
        "  print(c)"
      ],
      "execution_count": null,
      "outputs": [
        {
          "output_type": "stream",
          "text": [
            "5\n",
            "10\n",
            "35\n",
            "35\n"
          ],
          "name": "stdout"
        }
      ]
    },
    {
      "cell_type": "code",
      "metadata": {
        "id": "3zH73j_-ACV2",
        "colab_type": "code",
        "colab": {
          "base_uri": "https://localhost:8080/",
          "height": 130
        },
        "outputId": "db45af3c-8414-48cf-c745-8405c42e1829"
      },
      "source": [
        "if 100>0\n",
        "  pass\n"
      ],
      "execution_count": null,
      "outputs": [
        {
          "output_type": "error",
          "ename": "SyntaxError",
          "evalue": "ignored",
          "traceback": [
            "\u001b[0;36m  File \u001b[0;32m\"<ipython-input-5-e3d87df13b3d>\"\u001b[0;36m, line \u001b[0;32m1\u001b[0m\n\u001b[0;31m    if 100>0\u001b[0m\n\u001b[0m            ^\u001b[0m\n\u001b[0;31mSyntaxError\u001b[0m\u001b[0;31m:\u001b[0m invalid syntax\n"
          ]
        }
      ]
    },
    {
      "cell_type": "code",
      "metadata": {
        "id": "o_cRr-HNBkxt",
        "colab_type": "code",
        "colab": {}
      },
      "source": [
        "d = { \n",
        "    \"key\" : \"value\",\n",
        "     \"name\" : \"Tanmoy\",\n",
        "     \"Dept\" : \"CSE\",\n",
        "     10 : \"Lucky number\",\n",
        "     4 : 400\n",
        " }"
      ],
      "execution_count": null,
      "outputs": []
    },
    {
      "cell_type": "code",
      "metadata": {
        "id": "ezbuSMtPBrZ3",
        "colab_type": "code",
        "colab": {
          "base_uri": "https://localhost:8080/",
          "height": 164
        },
        "outputId": "661723be-3d82-40fb-c149-c688de463152"
      },
      "source": [
        "d[400]"
      ],
      "execution_count": null,
      "outputs": [
        {
          "output_type": "error",
          "ename": "KeyError",
          "evalue": "ignored",
          "traceback": [
            "\u001b[0;31m---------------------------------------------------------------------------\u001b[0m",
            "\u001b[0;31mKeyError\u001b[0m                                  Traceback (most recent call last)",
            "\u001b[0;32m<ipython-input-10-fb7ffd26476b>\u001b[0m in \u001b[0;36m<module>\u001b[0;34m()\u001b[0m\n\u001b[0;32m----> 1\u001b[0;31m \u001b[0md\u001b[0m\u001b[0;34m[\u001b[0m\u001b[0;36m400\u001b[0m\u001b[0;34m]\u001b[0m\u001b[0;34m\u001b[0m\u001b[0;34m\u001b[0m\u001b[0m\n\u001b[0m",
            "\u001b[0;31mKeyError\u001b[0m: 400"
          ]
        }
      ]
    },
    {
      "cell_type": "code",
      "metadata": {
        "id": "5blOtdZUCYQ0",
        "colab_type": "code",
        "colab": {}
      },
      "source": [
        "student1 = {\n",
        "    \"name\" : \"Kasfia\",\n",
        "    \"ID\" : 18101046,\n",
        "    \"dept\" : \"CSE\",\n",
        "    \"university\" : \"UAP\"\n",
        "}\n",
        "student2 = {\n",
        "    \"name\" : \"Sakib\",\n",
        "    \"ID\" : 18101032,\n",
        "    \"dept\" : \"CSE\",\n",
        "    \"university\" : \"UAP\"\n",
        "}"
      ],
      "execution_count": null,
      "outputs": []
    },
    {
      "cell_type": "code",
      "metadata": {
        "id": "EAM6w1SqCknY",
        "colab_type": "code",
        "colab": {}
      },
      "source": [
        "student_list = [ student1, student2 ]"
      ],
      "execution_count": null,
      "outputs": []
    },
    {
      "cell_type": "code",
      "metadata": {
        "id": "LbPiZEKUCw4Y",
        "colab_type": "code",
        "colab": {
          "base_uri": "https://localhost:8080/",
          "height": 51
        },
        "outputId": "ae56d040-fa7c-420c-be02-c36032eb9cfa"
      },
      "source": [
        "student_list"
      ],
      "execution_count": null,
      "outputs": [
        {
          "output_type": "execute_result",
          "data": {
            "text/plain": [
              "[{'ID': 18101046, 'dept': 'CSE', 'name': 'Kasfia', 'university': 'UAP'},\n",
              " {'ID': 18101032, 'dept': 'CSE', 'name': 'Sakib', 'university': 'UAP'}]"
            ]
          },
          "metadata": {
            "tags": []
          },
          "execution_count": 13
        }
      ]
    },
    {
      "cell_type": "code",
      "metadata": {
        "id": "yQVKTobxBnwP",
        "colab_type": "code",
        "colab": {
          "base_uri": "https://localhost:8080/",
          "height": 35
        },
        "outputId": "d92567a2-d684-4e69-ac72-d699a7396120"
      },
      "source": [
        "d[\"name\"]"
      ],
      "execution_count": null,
      "outputs": [
        {
          "output_type": "execute_result",
          "data": {
            "application/vnd.google.colaboratory.intrinsic": {
              "type": "string"
            },
            "text/plain": [
              "'Tanmoy'"
            ]
          },
          "metadata": {
            "tags": []
          },
          "execution_count": 7
        }
      ]
    }
  ]
}