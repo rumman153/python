{
  "nbformat": 4,
  "nbformat_minor": 0,
  "metadata": {
    "colab": {
      "name": "Class_05.ipynb",
      "provenance": [],
      "authorship_tag": "ABX9TyMRzPr4epfEbh/3TycQfjdJ",
      "include_colab_link": true
    },
    "kernelspec": {
      "name": "python3",
      "display_name": "Python 3"
    }
  },
  "cells": [
    {
      "cell_type": "markdown",
      "metadata": {
        "id": "view-in-github",
        "colab_type": "text"
      },
      "source": [
        "<a href=\"https://colab.research.google.com/github/rumman153/python/blob/master/Class_05.ipynb\" target=\"_parent\"><img src=\"https://colab.research.google.com/assets/colab-badge.svg\" alt=\"Open In Colab\"/></a>"
      ]
    },
    {
      "cell_type": "markdown",
      "metadata": {
        "id": "S48ljgQll5ew",
        "colab_type": "text"
      },
      "source": [
        "**LOOP**"
      ]
    },
    {
      "cell_type": "code",
      "metadata": {
        "id": "ycMdDmvbod3Z",
        "colab_type": "code",
        "colab": {}
      },
      "source": [
        ""
      ],
      "execution_count": null,
      "outputs": []
    },
    {
      "cell_type": "markdown",
      "metadata": {
        "id": "KDcyHxjjpPBk",
        "colab_type": "text"
      },
      "source": [
        "# print: 0-9\n",
        "Java code\n",
        "\n",
        "for (int i=0; i<10; i++) {\n",
        "  system.out.println(i)\n",
        "}\n",
        "\n",
        "int i=0;\n",
        "\n",
        "```\n",
        "\n",
        "\n",
        "while (i<10)\n",
        "{\n",
        "  system.out.println(i);\n",
        "  i++;\n",
        "}"
      ]
    },
    {
      "cell_type": "code",
      "metadata": {
        "id": "8Rt1T6y3qAse",
        "colab_type": "code",
        "colab": {
          "base_uri": "https://localhost:8080/",
          "height": 187
        },
        "outputId": "95bd89bc-cbf5-4f09-be12-8ed7b2e21ef0"
      },
      "source": [
        "i=0\n",
        "while (i<10) :\n",
        "  print(i)\n",
        "  i = i + 1"
      ],
      "execution_count": 1,
      "outputs": [
        {
          "output_type": "stream",
          "text": [
            "0\n",
            "1\n",
            "2\n",
            "3\n",
            "4\n",
            "5\n",
            "6\n",
            "7\n",
            "8\n",
            "9\n"
          ],
          "name": "stdout"
        }
      ]
    },
    {
      "cell_type": "markdown",
      "metadata": {
        "id": "MA-WZOqeqtK5",
        "colab_type": "text"
      },
      "source": [
        "1+2+....+10=?"
      ]
    },
    {
      "cell_type": "code",
      "metadata": {
        "id": "90N6dgaPqx1h",
        "colab_type": "code",
        "colab": {
          "base_uri": "https://localhost:8080/",
          "height": 34
        },
        "outputId": "cb81a602-9c82-4a4b-88c3-816936da3968"
      },
      "source": [
        "i = 0\n",
        "sum = 0\n",
        "while (i<11) :\n",
        "  if(i==10):\n",
        "    print(i,end=' ')\n",
        "  else:\n",
        "    print(i,\"+\", end=' ')\n",
        "  sum = sum + i\n",
        "  i +=1\n",
        "print(\"=\",sum)\n"
      ],
      "execution_count": 6,
      "outputs": [
        {
          "output_type": "stream",
          "text": [
            "0 + 1 + 2 + 3 + 4 + 5 + 6 + 7 + 8 + 9 + 10 = 55\n"
          ],
          "name": "stdout"
        }
      ]
    },
    {
      "cell_type": "markdown",
      "metadata": {
        "id": "MXinerK7sbk6",
        "colab_type": "text"
      },
      "source": [
        "input:\n",
        "start: 10\n",
        "end: 20\n",
        "output:\n",
        "10 + 11 + ..... + 2 = ?"
      ]
    },
    {
      "cell_type": "code",
      "metadata": {
        "id": "5R57tcCrspbj",
        "colab_type": "code",
        "colab": {}
      },
      "source": [
        "start = int(input(\"Start: \"))\n",
        "end_p = int(input(\"End: \"))\n",
        "\n",
        "sum = 0\n",
        "i=start\n",
        "\n",
        "while i<end_p+1 :\n",
        "  if(i == end_p):\n",
        "    print(i, end=' ')\n",
        "  else:\n",
        "    print(i, \"+\" , end=' ')\n",
        "  sum = sum + i\n",
        "  i += 1\n",
        "print(\"=\", sum)"
      ],
      "execution_count": null,
      "outputs": []
    },
    {
      "cell_type": "markdown",
      "metadata": {
        "id": "DMUaSmyitTRs",
        "colab_type": "text"
      },
      "source": [
        "input: \n",
        "start: 20\n",
        "finish: 40\n",
        "output:\n",
        "20 +22 +24 + ...... + 40 =?"
      ]
    },
    {
      "cell_type": "code",
      "metadata": {
        "id": "2bKtRMV2tuos",
        "colab_type": "code",
        "colab": {
          "base_uri": "https://localhost:8080/",
          "height": 68
        },
        "outputId": "cac0cd96-636a-47e6-cd39-5bee27b8168b"
      },
      "source": [
        "start = int(input(\"Start: \"))\n",
        "end_p = int(input(\"End: \"))\n",
        "\n",
        "sum = 0\n",
        "i=start\n",
        "\n",
        "while i<end_p+1 :\n",
        "  if(i == end_p):\n",
        "    print(i, end=' ')\n",
        "  else:\n",
        "    print(i, \"+\" , end=' ')\n",
        "  sum = sum + i\n",
        "  i += 2\n",
        "print(\"=\", sum)"
      ],
      "execution_count": 10,
      "outputs": [
        {
          "output_type": "stream",
          "text": [
            "Start: 20\n",
            "End: 40\n",
            "20 + 22 + 24 + 26 + 28 + 30 + 32 + 34 + 36 + 38 + 40 = 330\n"
          ],
          "name": "stdout"
        }
      ]
    },
    {
      "cell_type": "code",
      "metadata": {
        "id": "rSBC8YapvhWh",
        "colab_type": "code",
        "colab": {
          "base_uri": "https://localhost:8080/",
          "height": 68
        },
        "outputId": "7ce66d94-f956-45bf-b8c3-431b8cb49e51"
      },
      "source": [
        "start = int(input(\"Start: \"))\n",
        "end_p = int(input(\"End: \"))\n",
        "if (start%2)==1 :\n",
        "  start= start+1\n",
        "\n",
        "sum = 0\n",
        "i=start\n",
        "\n",
        "while i<end_p+1 :\n",
        "  if(i == end_p):\n",
        "    print(i, end=' ')\n",
        "  else:\n",
        "    print(i, \"+\" , end=' ')\n",
        "  sum = sum + i\n",
        "  i += 2\n",
        "print(\"=\", sum)"
      ],
      "execution_count": 12,
      "outputs": [
        {
          "output_type": "stream",
          "text": [
            "Start: 20\n",
            "End: 40\n",
            "20 + 22 + 24 + 26 + 28 + 30 + 32 + 34 + 36 + 38 + 40 = 330\n"
          ],
          "name": "stdout"
        }
      ]
    },
    {
      "cell_type": "markdown",
      "metadata": {
        "id": "d8zCbysBwe0G",
        "colab_type": "text"
      },
      "source": [
        "**Range**"
      ]
    },
    {
      "cell_type": "markdown",
      "metadata": {
        "id": "biNSbOyXzBzY",
        "colab_type": "text"
      },
      "source": [
        "for (int i=0; i<10; i++)\n",
        "\n",
        "   { system.out.println(i) }"
      ]
    },
    {
      "cell_type": "code",
      "metadata": {
        "id": "9joQLjOXwk3m",
        "colab_type": "code",
        "colab": {
          "base_uri": "https://localhost:8080/",
          "height": 34
        },
        "outputId": "d30645cf-6048-437a-e10a-29927bcbba7b"
      },
      "source": [
        "l = list( range(0,10,1))\n",
        "l"
      ],
      "execution_count": 14,
      "outputs": [
        {
          "output_type": "execute_result",
          "data": {
            "text/plain": [
              "[0, 1, 2, 3, 4, 5, 6, 7, 8, 9]"
            ]
          },
          "metadata": {
            "tags": []
          },
          "execution_count": 14
        }
      ]
    },
    {
      "cell_type": "code",
      "metadata": {
        "id": "t1HHU_AjzRva",
        "colab_type": "code",
        "colab": {
          "base_uri": "https://localhost:8080/",
          "height": 34
        },
        "outputId": "cee13f9f-9398-43bf-8902-85be5c6f7fde"
      },
      "source": [
        "l = list ( range(10))\n",
        "l"
      ],
      "execution_count": 16,
      "outputs": [
        {
          "output_type": "execute_result",
          "data": {
            "text/plain": [
              "[0, 1, 2, 3, 4, 5, 6, 7, 8, 9]"
            ]
          },
          "metadata": {
            "tags": []
          },
          "execution_count": 16
        }
      ]
    },
    {
      "cell_type": "markdown",
      "metadata": {
        "id": "5FgQn4wPzZJa",
        "colab_type": "text"
      },
      "source": [
        "for"
      ]
    },
    {
      "cell_type": "code",
      "metadata": {
        "id": "-OlUFUbLzcav",
        "colab_type": "code",
        "colab": {
          "base_uri": "https://localhost:8080/",
          "height": 187
        },
        "outputId": "c454bca5-918b-444f-aa69-94d86316e77a"
      },
      "source": [
        "for i in range(10):\n",
        "  print(i)"
      ],
      "execution_count": 18,
      "outputs": [
        {
          "output_type": "stream",
          "text": [
            "0\n",
            "1\n",
            "2\n",
            "3\n",
            "4\n",
            "5\n",
            "6\n",
            "7\n",
            "8\n",
            "9\n"
          ],
          "name": "stdout"
        }
      ]
    },
    {
      "cell_type": "code",
      "metadata": {
        "id": "BrCyv_X5znG_",
        "colab_type": "code",
        "colab": {
          "base_uri": "https://localhost:8080/",
          "height": 102
        },
        "outputId": "1fe123d3-481a-4e80-f2f4-4b53ac23bb8a"
      },
      "source": [
        "l = [10,2,\"A\",\"B\",1010]\n",
        "\n",
        "for i in l:\n",
        "  print(i)"
      ],
      "execution_count": 27,
      "outputs": [
        {
          "output_type": "stream",
          "text": [
            "10\n",
            "2\n",
            "A\n",
            "B\n",
            "1010\n"
          ],
          "name": "stdout"
        }
      ]
    },
    {
      "cell_type": "code",
      "metadata": {
        "id": "ai8UzQwrz716",
        "colab_type": "code",
        "colab": {
          "base_uri": "https://localhost:8080/",
          "height": 68
        },
        "outputId": "398d26f0-9760-44b2-9b8d-c6d94354e10b"
      },
      "source": [
        "l = [10,2,\"A\",\"B\",1010]\n",
        "\n",
        "for i in range(1,4):\n",
        "  print(l[i])"
      ],
      "execution_count": 20,
      "outputs": [
        {
          "output_type": "stream",
          "text": [
            "2\n",
            "A\n",
            "B\n"
          ],
          "name": "stdout"
        }
      ]
    },
    {
      "cell_type": "code",
      "metadata": {
        "id": "wp4defRk0uPS",
        "colab_type": "code",
        "colab": {
          "base_uri": "https://localhost:8080/",
          "height": 34
        },
        "outputId": "ed37b9ba-c2b9-4f68-e812-63f6a98b7c84"
      },
      "source": [
        "l = l + [6]\n",
        "l"
      ],
      "execution_count": 28,
      "outputs": [
        {
          "output_type": "execute_result",
          "data": {
            "text/plain": [
              "[10, 2, 'A', 'B', 1010, 6]"
            ]
          },
          "metadata": {
            "tags": []
          },
          "execution_count": 28
        }
      ]
    }
  ]
}