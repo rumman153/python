{
  "nbformat": 4,
  "nbformat_minor": 0,
  "metadata": {
    "colab": {
      "name": "Class_05.ipynb",
      "provenance": [],
      "authorship_tag": "ABX9TyPv7mzFIR/FZZynUUYou1RA",
      "include_colab_link": true
    },
    "kernelspec": {
      "name": "python3",
      "display_name": "Python 3"
    }
  },
  "cells": [
    {
      "cell_type": "markdown",
      "metadata": {
        "id": "view-in-github",
        "colab_type": "text"
      },
      "source": [
        "<a href=\"https://colab.research.google.com/github/rumman153/python/blob/master/Class_05.ipynb\" target=\"_parent\"><img src=\"https://colab.research.google.com/assets/colab-badge.svg\" alt=\"Open In Colab\"/></a>"
      ]
    },
    {
      "cell_type": "markdown",
      "metadata": {
        "id": "S48ljgQll5ew",
        "colab_type": "text"
      },
      "source": [
        "**LOOP**"
      ]
    },
    {
      "cell_type": "code",
      "metadata": {
        "id": "ycMdDmvbod3Z",
        "colab_type": "code",
        "colab": {}
      },
      "source": [
        ""
      ],
      "execution_count": null,
      "outputs": []
    },
    {
      "cell_type": "markdown",
      "metadata": {
        "id": "KDcyHxjjpPBk",
        "colab_type": "text"
      },
      "source": [
        "# print: 0-9\n",
        "Java code\n",
        "\n",
        "for (int i=0; i<10; i++) {\n",
        "  system.out.println(i)\n",
        "}\n",
        "\n",
        "int i=0;\n",
        "\n",
        "```\n",
        "\n",
        "\n",
        "while (i<10)\n",
        "{\n",
        "  system.out.println(i);\n",
        "  i++;\n",
        "}"
      ]
    },
    {
      "cell_type": "code",
      "metadata": {
        "id": "8Rt1T6y3qAse",
        "colab_type": "code",
        "colab": {
          "base_uri": "https://localhost:8080/",
          "height": 187
        },
        "outputId": "95bd89bc-cbf5-4f09-be12-8ed7b2e21ef0"
      },
      "source": [
        "i=0\n",
        "while (i<10) :\n",
        "  print(i)\n",
        "  i = i + 1"
      ],
      "execution_count": 1,
      "outputs": [
        {
          "output_type": "stream",
          "text": [
            "0\n",
            "1\n",
            "2\n",
            "3\n",
            "4\n",
            "5\n",
            "6\n",
            "7\n",
            "8\n",
            "9\n"
          ],
          "name": "stdout"
        }
      ]
    },
    {
      "cell_type": "markdown",
      "metadata": {
        "id": "MA-WZOqeqtK5",
        "colab_type": "text"
      },
      "source": [
        "1+2+....+10=?"
      ]
    },
    {
      "cell_type": "code",
      "metadata": {
        "id": "90N6dgaPqx1h",
        "colab_type": "code",
        "colab": {
          "base_uri": "https://localhost:8080/",
          "height": 34
        },
        "outputId": "cb81a602-9c82-4a4b-88c3-816936da3968"
      },
      "source": [
        "i = 0\n",
        "sum = 0\n",
        "while (i<11) :\n",
        "  if(i==10):\n",
        "    print(i,end=' ')\n",
        "  else:\n",
        "    print(i,\"+\", end=' ')\n",
        "  sum = sum + i\n",
        "  i +=1\n",
        "print(\"=\",sum)\n"
      ],
      "execution_count": 6,
      "outputs": [
        {
          "output_type": "stream",
          "text": [
            "0 + 1 + 2 + 3 + 4 + 5 + 6 + 7 + 8 + 9 + 10 = 55\n"
          ],
          "name": "stdout"
        }
      ]
    },
    {
      "cell_type": "markdown",
      "metadata": {
        "id": "MXinerK7sbk6",
        "colab_type": "text"
      },
      "source": [
        "input:\n",
        "start: 10\n",
        "end: 20\n",
        "output:\n",
        "10 + 11 + ..... + 2 = ?"
      ]
    },
    {
      "cell_type": "code",
      "metadata": {
        "id": "5R57tcCrspbj",
        "colab_type": "code",
        "colab": {}
      },
      "source": [
        "start = int(input(\"Start: \"))\n",
        "end_p = int(input(\"End: \"))\n",
        "\n",
        "sum = 0\n",
        "i=start\n",
        "\n",
        "while i<end_p+1 :\n",
        "  if(i == end_p):\n",
        "    print(i, end=' ')\n",
        "  else:\n",
        "    print(i, \"+\" , end=' ')\n",
        "  sum = sum + i\n",
        "  i += 1\n",
        "print(\"=\", sum)"
      ],
      "execution_count": null,
      "outputs": []
    },
    {
      "cell_type": "markdown",
      "metadata": {
        "id": "DMUaSmyitTRs",
        "colab_type": "text"
      },
      "source": [
        "input: \n",
        "start: 20\n",
        "finish: 40\n",
        "output:\n",
        "20 +22 +24 + ...... + 40 =?"
      ]
    },
    {
      "cell_type": "code",
      "metadata": {
        "id": "2bKtRMV2tuos",
        "colab_type": "code",
        "colab": {
          "base_uri": "https://localhost:8080/",
          "height": 68
        },
        "outputId": "cac0cd96-636a-47e6-cd39-5bee27b8168b"
      },
      "source": [
        "start = int(input(\"Start: \"))\n",
        "end_p = int(input(\"End: \"))\n",
        "\n",
        "sum = 0\n",
        "i=start\n",
        "\n",
        "while i<end_p+1 :\n",
        "  if(i == end_p):\n",
        "    print(i, end=' ')\n",
        "  else:\n",
        "    print(i, \"+\" , end=' ')\n",
        "  sum = sum + i\n",
        "  i += 2\n",
        "print(\"=\", sum)"
      ],
      "execution_count": 10,
      "outputs": [
        {
          "output_type": "stream",
          "text": [
            "Start: 20\n",
            "End: 40\n",
            "20 + 22 + 24 + 26 + 28 + 30 + 32 + 34 + 36 + 38 + 40 = 330\n"
          ],
          "name": "stdout"
        }
      ]
    },
    {
      "cell_type": "code",
      "metadata": {
        "id": "rSBC8YapvhWh",
        "colab_type": "code",
        "colab": {
          "base_uri": "https://localhost:8080/",
          "height": 68
        },
        "outputId": "7ce66d94-f956-45bf-b8c3-431b8cb49e51"
      },
      "source": [
        "start = int(input(\"Start: \"))\n",
        "end_p = int(input(\"End: \"))\n",
        "if (start%2)==1 :\n",
        "  start= start+1\n",
        "\n",
        "sum = 0\n",
        "i=start\n",
        "\n",
        "while i<end_p+1 :\n",
        "  if(i == end_p):\n",
        "    print(i, end=' ')\n",
        "  else:\n",
        "    print(i, \"+\" , end=' ')\n",
        "  sum = sum + i\n",
        "  i += 2\n",
        "print(\"=\", sum)"
      ],
      "execution_count": 12,
      "outputs": [
        {
          "output_type": "stream",
          "text": [
            "Start: 20\n",
            "End: 40\n",
            "20 + 22 + 24 + 26 + 28 + 30 + 32 + 34 + 36 + 38 + 40 = 330\n"
          ],
          "name": "stdout"
        }
      ]
    },
    {
      "cell_type": "markdown",
      "metadata": {
        "id": "d8zCbysBwe0G",
        "colab_type": "text"
      },
      "source": [
        "**Range**"
      ]
    },
    {
      "cell_type": "code",
      "metadata": {
        "id": "9joQLjOXwk3m",
        "colab_type": "code",
        "colab": {}
      },
      "source": [
        ""
      ],
      "execution_count": null,
      "outputs": []
    }
  ]
}