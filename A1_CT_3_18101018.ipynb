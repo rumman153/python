{
  "nbformat": 4,
  "nbformat_minor": 0,
  "metadata": {
    "colab": {
      "name": "A1_CT_3_18101018.ipynb",
      "provenance": [],
      "include_colab_link": true
    },
    "kernelspec": {
      "name": "python3",
      "display_name": "Python 3"
    }
  },
  "cells": [
    {
      "cell_type": "markdown",
      "metadata": {
        "id": "view-in-github",
        "colab_type": "text"
      },
      "source": [
        "<a href=\"https://colab.research.google.com/github/rumman153/python/blob/master/A1_CT_3_18101018.ipynb\" target=\"_parent\"><img src=\"https://colab.research.google.com/assets/colab-badge.svg\" alt=\"Open In Colab\"/></a>"
      ]
    },
    {
      "cell_type": "markdown",
      "metadata": {
        "id": "94DKgqGquHRA",
        "colab_type": "text"
      },
      "source": [
        "\n",
        "\n",
        "```\n",
        "1. Sum the following series using for loop:\n",
        "1 + 4 + 9 + 16 + ….. + Up to n-th term= ? (Hint: square series)\t\n",
        "```\n",
        "\n"
      ]
    },
    {
      "cell_type": "code",
      "metadata": {
        "id": "ZjHQf5Bot1Br",
        "colab_type": "code",
        "colab": {
          "base_uri": "https://localhost:8080/",
          "height": 129
        },
        "outputId": "89e192ea-3e85-4edc-e6e2-d0c9c412954f"
      },
      "source": [
        "n=int(input())\n",
        "\n",
        "l= list[1:n]\n",
        "\n",
        "\n",
        "for i in l:\n",
        "  if (i<n):\n",
        "    square= i**2\n",
        "    print(square,\"+\")\n",
        "  else (i==n):\n",
        "    square= i**2\n",
        "    print(square)"
      ],
      "execution_count": null,
      "outputs": [
        {
          "output_type": "error",
          "ename": "SyntaxError",
          "evalue": "ignored",
          "traceback": [
            "\u001b[0;36m  File \u001b[0;32m\"<ipython-input-2-e48dbbd3a919>\"\u001b[0;36m, line \u001b[0;32m10\u001b[0m\n\u001b[0;31m    else (i==n):\u001b[0m\n\u001b[0m         ^\u001b[0m\n\u001b[0;31mSyntaxError\u001b[0m\u001b[0;31m:\u001b[0m invalid syntax\n"
          ]
        }
      ]
    },
    {
      "cell_type": "markdown",
      "metadata": {
        "id": "KskwaNZVwkUr",
        "colab_type": "text"
      },
      "source": [
        "2. (OR) You have a list of students. Each student’s information is stored using a dictionary. \n",
        "\n",
        "\n",
        "Now write a python program to search a student by his/her ID. Use a loop and conditional (or only conditional) so that this can also work on a big list of students. \n"
      ]
    },
    {
      "cell_type": "code",
      "metadata": {
        "id": "pCA77mX_wtPn",
        "colab_type": "code",
        "colab": {
          "base_uri": "https://localhost:8080/",
          "height": 232
        },
        "outputId": "32c0411d-6b02-450b-ad97-a6330af6a272"
      },
      "source": [
        "s1 = {\n",
        "    \"student_id\" : 1,\n",
        "    \"Iname\" : \"Salard\",\n",
        "    \"fname\" : \"Jean\",\n",
        "    \"age\" : 19\n",
        "}\n",
        "\n",
        "s2 = {\n",
        "    \"student_id\" : 2,\n",
        "    \"Iname\" : \"Le Bert\",\n",
        "    \"fname\" : \"Antoine\",\n",
        "    \"age\" : 24\n",
        "}\n",
        "\n",
        "s3 = {\n",
        "    \"student_id\" : 3,\n",
        "    \"Iname\" : \"Legendre\",\n",
        "    \"fname\" : \"Pierre\",\n",
        "    \"age\" : 23\n",
        "}\n",
        "\n",
        "s4 = {\n",
        "    \"student_id\" : 4,\n",
        "    \"Iname\" : \"Turcotte\",\n",
        "    \"fname\" : \"Cedric\",\n",
        "    \"age\" : 24\n",
        "}\n",
        "\n",
        "s5 = {\n",
        "    \"student_id\" : 5,\n",
        "    \"Iname\" : \"Tremblay\",\n",
        "    \"fname\" : \"Alfredo\",\n",
        "    \"age\" : 22\n",
        "}\n",
        "\n",
        "student=[s1,s2,s3,s4,s5]\n",
        "\n",
        "id=int( input ( ) )\n",
        "\n",
        "for x in student:\n",
        "  if x[\"student_id\"] == id:\n",
        "    print(x)\n",
        "\n",
        "\n",
        "\n"
      ],
      "execution_count": null,
      "outputs": [
        {
          "output_type": "error",
          "ename": "TypeError",
          "evalue": "ignored",
          "traceback": [
            "\u001b[0;31m---------------------------------------------------------------------------\u001b[0m",
            "\u001b[0;31mTypeError\u001b[0m                                 Traceback (most recent call last)",
            "\u001b[0;32m<ipython-input-37-96bbe5e271b9>\u001b[0m in \u001b[0;36m<module>\u001b[0;34m()\u001b[0m\n\u001b[1;32m     36\u001b[0m \u001b[0mstudent\u001b[0m\u001b[0;34m=\u001b[0m\u001b[0;34m[\u001b[0m\u001b[0ms1\u001b[0m\u001b[0;34m,\u001b[0m\u001b[0ms2\u001b[0m\u001b[0;34m,\u001b[0m\u001b[0ms3\u001b[0m\u001b[0;34m,\u001b[0m\u001b[0ms4\u001b[0m\u001b[0;34m,\u001b[0m\u001b[0ms5\u001b[0m\u001b[0;34m]\u001b[0m\u001b[0;34m\u001b[0m\u001b[0;34m\u001b[0m\u001b[0m\n\u001b[1;32m     37\u001b[0m \u001b[0;34m\u001b[0m\u001b[0m\n\u001b[0;32m---> 38\u001b[0;31m \u001b[0mid\u001b[0m\u001b[0;34m=\u001b[0m\u001b[0mint\u001b[0m\u001b[0;34m(\u001b[0m \u001b[0minput\u001b[0m \u001b[0;34m(\u001b[0m \u001b[0;34m)\u001b[0m \u001b[0;34m)\u001b[0m\u001b[0;34m\u001b[0m\u001b[0;34m\u001b[0m\u001b[0m\n\u001b[0m\u001b[1;32m     39\u001b[0m \u001b[0;34m\u001b[0m\u001b[0m\n\u001b[1;32m     40\u001b[0m \u001b[0;32mfor\u001b[0m \u001b[0mx\u001b[0m \u001b[0;32min\u001b[0m \u001b[0mstudent\u001b[0m\u001b[0;34m:\u001b[0m\u001b[0;34m\u001b[0m\u001b[0;34m\u001b[0m\u001b[0m\n",
            "\u001b[0;31mTypeError\u001b[0m: 'int' object is not callable"
          ]
        }
      ]
    }
  ]
}