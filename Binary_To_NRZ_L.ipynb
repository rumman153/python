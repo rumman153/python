{
  "nbformat": 4,
  "nbformat_minor": 0,
  "metadata": {
    "colab": {
      "name": "Binary To NRZ_L.ipynb",
      "provenance": [],
      "include_colab_link": true
    },
    "kernelspec": {
      "name": "python3",
      "display_name": "Python 3"
    }
  },
  "cells": [
    {
      "cell_type": "markdown",
      "metadata": {
        "id": "view-in-github",
        "colab_type": "text"
      },
      "source": [
        "<a href=\"https://colab.research.google.com/github/rumman153/python/blob/master/Binary_To_NRZ_L.ipynb\" target=\"_parent\"><img src=\"https://colab.research.google.com/assets/colab-badge.svg\" alt=\"Open In Colab\"/></a>"
      ]
    },
    {
      "cell_type": "code",
      "metadata": {
        "id": "5BaZ_-XVMPex",
        "outputId": "dfa27a1a-170d-4dde-ddaf-457c19e48cde",
        "colab": {
          "base_uri": "https://localhost:8080/",
          "height": 34
        }
      },
      "source": [
        "Binary = [0,1,0,1,1,0,0,1]\n",
        "\n",
        "\n",
        "for i in  range(len(Binary)):\n",
        "  if Binary[i]==0:\n",
        "    print(\"__\",end=\"\")\n",
        "  else:\n",
        "    print(\"--\",end=\"\")\n",
        "  \n",
        "  if i<len(Binary)-1 and Binary[i+1]!=Binary[i]:\n",
        "    print('|',end=\"\")"
      ],
      "execution_count": 18,
      "outputs": [
        {
          "output_type": "stream",
          "text": [
            "__|--|__|----|____|--"
          ],
          "name": "stdout"
        }
      ]
    }
  ]
}