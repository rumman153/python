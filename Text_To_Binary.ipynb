{
  "nbformat": 4,
  "nbformat_minor": 0,
  "metadata": {
    "colab": {
      "name": "Text To Binary.ipynb",
      "provenance": [],
      "authorship_tag": "ABX9TyNHUjvInJyD4NV4EkhmEc/B",
      "include_colab_link": true
    },
    "kernelspec": {
      "name": "python3",
      "display_name": "Python 3"
    }
  },
  "cells": [
    {
      "cell_type": "markdown",
      "metadata": {
        "id": "view-in-github",
        "colab_type": "text"
      },
      "source": [
        "<a href=\"https://colab.research.google.com/github/rumman153/python/blob/master/Text_To_Binary.ipynb\" target=\"_parent\"><img src=\"https://colab.research.google.com/assets/colab-badge.svg\" alt=\"Open In Colab\"/></a>"
      ]
    },
    {
      "cell_type": "code",
      "metadata": {
        "id": "dz_aXCCQweyA",
        "colab_type": "code",
        "colab": {
          "base_uri": "https://localhost:8080/",
          "height": 68
        },
        "outputId": "4e386711-ebf0-4dff-8bce-97820965f9a9"
      },
      "source": [
        "import binascii \n",
        "A = input()\n",
        "print(\"Text :\",A)\n",
        "\n",
        "binary = ''.join(format(ord(i), 'b') for i in A)\n",
        "\n",
        "print(\"binary conversion : \" + str(binary))"
      ],
      "execution_count": null,
      "outputs": [
        {
          "output_type": "stream",
          "text": [
            "RUMMAN\n",
            "Text : RUMMAN\n",
            "binary conversion : 101001010101011001101100110110000011001110\n"
          ],
          "name": "stdout"
        }
      ]
    }
  ]
}